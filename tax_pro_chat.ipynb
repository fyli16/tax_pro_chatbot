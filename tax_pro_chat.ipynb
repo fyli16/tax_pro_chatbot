{
 "cells": [
  {
   "cell_type": "markdown",
   "id": "9f619a42",
   "metadata": {},
   "source": [
    "**Overview**\n",
    "- Create an AI chatbot that can answer questions about 2025 tax filing using embedded tax docs as knowledge base\n",
    "\n",
    "**Steps**\n",
    "1. Document embedding\n",
    "2. Pinecone for vector storage\n",
    "3. GPT for answer generation\n",
    "4. Streamlit for chatbot UI"
   ]
  },
  {
   "cell_type": "code",
   "execution_count": 1,
   "id": "90057f54",
   "metadata": {},
   "outputs": [],
   "source": [
    "import fitz  # PyMuPDF\n",
    "import re\n",
    "import os\n",
    "from dotenv import load_dotenv\n",
    "\n",
    "# load api keys for openai and pinecone\n",
    "load_dotenv()\n",
    "OPENAI_API_KEY = os.getenv(\"OPENAI_API_KEY\")\n",
    "PINECONE_API_KEY = os.getenv(\"PINECONE_API_KEY\")"
   ]
  },
  {
   "cell_type": "markdown",
   "id": "1ff18d7e",
   "metadata": {},
   "source": [
    "# Chunk & preprocess documents\n",
    "* convert pdfs to text\n",
    "* break text into manageable chunks (e.g. 500-1000 tokens) for embedding"
   ]
  },
  {
   "cell_type": "code",
   "execution_count": 5,
   "id": "66e26237",
   "metadata": {},
   "outputs": [
    {
     "name": "stdout",
     "output_type": "stream",
     "text": [
      "Line Instructions for Forms 1040 and 1040-SR Also see the instructions for Schedule 1 through Schedule 3 that follow the Form 1040 and 1040-SR instructions. What form to file. Everyone can file Form 1040. Form 1040-SR is available to you if you were born before January 2, 1960. Fiscal year filers. If you are a fiscal year filer using a tax year other than January 1 through December 31, 2024, enter the beginning and ending months of your fiscal year in the entry space provided at the top of page 1 of Form 1040 or 1040-SR. Write-in information. If you need to write a word, code, and/or dollar amount on Form 1040 or 1040-SR to explain an item of income or deduction, but don't have enough space to enter the word, code, and/or dollar amount, you can put an asterisk next to the applicable line number and put a footnote at the bottom of page 2 of your tax return indicating the line number and the word, code, and/or dollar amount you need to enter. Section references are to the Internal Revenue Code. CAUTION ! Name and Address Print or type the information in the spaces provided. If you are married fil- ing a separate return, enter your spouse's name in the entry space below the filing status checkboxes instead of below your name. If you are currently incarcerated, enter your inmate identifying number near your last name. If you filed a joint return for 2023 and you are filing a joint return for 2024 with the same spouse, be sure to enter your names and SSNs in the same order as on your 2023 return. Name Change If you changed your name because of marriage, divorce, etc., be sure to report the change to the Social Security Ad- ministration (SSA) before filing your re- turn. This prevents delays in processing your return and issuing refunds. It also safeguards your future social security benefits. Address Change If you plan to move after filing your re- turn, use Form 8822 to notify the IRS of your new address. P.O. Box Enter your box number only if your post office doesn't deliver mail to your home. Foreign Address If you have a foreign address, enter the city name on the appropriate line. Don’t TIP enter any other information on that line, but also complete the spaces below that line. Don’t abbreviate the country name. Follow the country’s practice for enter- ing the postal code and the name of the province, county, or state. Death of a Taxpayer If a taxpayer died before filing a return for 2024, the taxpayer's spouse or per- sonal representative may have to file and sign a return for that taxpayer. A person- al representative can be an executor, ad- ministrator, or anyone who is in charge of the deceased taxpayer's property. If the deceased taxpayer didn't have to file a return but had tax withheld, a return must be filed to get a refund. The person who files the return must enter “De- ceased,” the deceased taxpayer's name, and the date of death across the top of the return. If this information isn't provi- ded, it may delay the processing of the return. If your spouse died in 2024 and you didn't remarry in 2024, or if your spouse died in 2025 before filing a return for 2024, you can file a joint return. A joint return should show your spouse's 2024 income before death and your income for all of 2024. Enter “Filing as surviv- ing spouse” in the area where you sign the return. If someone else is the person- al representative, they must also sign. All payers of income, including fi- nancial institutions, should be promptly notified of the taxpayer's death. This will ensure the proper reporting of in- come earned by the taxpayer's estate or heirs. A deceased taxpayer's social se- curity number shouldn't be used for tax years after the year of death, except for estate tax return purposes. Social Security Number (SSN) An incorrect or missing SSN can in- crease your tax, reduce your refund, or delay your refund. To apply for an SSN, fill in Form SS-5 and return it, along with the appropriate evidence docu- ments, to the Social Security Adminis- tration (SSA). You can get Form SS-5 online at SSA.gov/forms/ss-5.pdf, from your local SSA office, or by calling the SSA at 800-772-1213. It usually takes about 2 weeks to get an SSN once the SSA has all the evidence and informa- tion it needs. Check that both the name and SSN on your Forms 1040 or 1040-SR, W-2, and 1099 agree with your social security card. If they don’t, certain deductions and credits on Form 1040 or 1040-SR may be reduced or disallowed and you may not receive credit for your social security earnings. If your Form W-2 shows an incorrect SSN or name, notify your employer or the form-issuing agent as soon as possible to make sure your earnings are credited to your social se- curity record. If the name or SSN on your social security card is incorrect, call the SSA. Once you are issued an SSN, use it to file your tax return. Use your SSN to file your tax return even if your SSN does not authorize employment or if you have been issued an SSN that authorizes em- 12 Need more information or forms? Visit IRS.gov. ployment and you lose your employ- ment authorization. An ITIN won’t be issued to you once you have been issued an SSN. If you received your SSN after previously using an ITIN, stop using your ITIN. Use your SSN instead. IRS Individual Taxpayer Identification Numbers (ITINs) for Aliens If you are a nonresident or resident alien and you don’t have and aren’t eligible to get an SSN, you must apply for an ITIN. It takes about 7 weeks to get an ITIN. If you already have an ITIN, enter it wherever your SSN is requested on your tax return. Some ITINs must be renewed. If you haven't used your ITIN on a federal tax return at least once for tax years 2021, 2022, or 2023, it has expired and must be renewed if you need to file a federal tax return. You don't need to renew your ITIN if you don't need to file a federal tax return. You can find more informa- tion at IRS.gov/ITIN. An ITIN is for tax use only. It doesn't entitle you to social security benefits or change your employment or immigra- tion status under U.S. law. For more information on ITINs, in- cluding application, expiration, and re- newal, see Form W-7 and its instruc- tions. If you receive an SSN after previous- ly using an ITIN, stop using your ITIN. Use your SSN instead. Visit a local IRS office or write a letter to the IRS ex- plaining that you now have an SSN and want all your tax records combined un- der your SSN. Details about what to in- clude with the letter and where to mail it are at IRS.gov/ITIN. Nonresident Alien Spouse If your spouse is a nonresident alien, your spouse must have either an SSN or an ITIN if: • You file a joint return, or • Your spouse is filing a separate re- turn. Presidential Election Campaign Fund This fund helps pay for Presidential election campaigns. The fund reduces candidates' dependence on large contri- butions from individuals and groups and places candidates on an equal financial footing in the general election. The fund also helps pay for pediatric medical re- search. If you want $3 to go to this fund, check the box. If you are filing a joint return, your spouse can also have $3 go to the fund. If you check a box, your tax or refund won't change. Filing Status Check only the filing status that applies to you. The ones that will usually give you the lowest tax are listed last. • Married filing separately. • Single. • Head of household. • Married filing jointly. • Qualifying surviving spouse. For information about marital status, see Pub. 501. More than one filing status can apply to you. You can choose the one for which you qualify that will give you the lowest tax. Single You can check the “Single” box in the Filing Status section on page 1 of Form 1040 or 1040-SR if any of the following was true on December 31, 2024. • You were never married. • You were legally separated accord- ing to your state law under a decree of divorce or separate maintenance. But if, at the end of 2024, your divorce wasn't final (an interlocutory decree), you are considered married and can't check the box. • You were widowed before January 1, 2024, and didn't remarry before the end of 2024. But if you have a child, you may be able to use the qualifying surviving spouse filing status. See the instructions for Qualifying Surviving Spouse, later. Married Filing Jointly You can check the “Married filing joint- ly” box in the Filing Status section on page 1 of Form 1040 or 1040-SR if any of the following apply. • You were married at the end of 2024, even if you didn't live with your spouse at the end of 2024. • Your spouse died in 2024 and you didn't remarry in 2024. TIP • You were married at the end of 2024 and your spouse died in 2025 be- fore filing a 2024 return. A married couple filing jointly report their combined income and deduct their combined allowable expenses on one re- turn. They can file a joint return even if only one had income or if they didn't live together all year. However, both persons must sign the return. Once you file a joint return, you can't choose to file separate returns for that year after the due date of the return. Joint and several tax liability. If you file a joint return, both you and your spouse are generally responsible for the tax and interest or penalties due on the return. This means that if one spouse doesn't pay the tax due, the other may have to. Or, if one spouse doesn't report the correct tax, both spouses may be re- sponsible for any additional taxes as- sessed by the IRS. You may want to file separately if: • You believe your spouse isn't re- porting all of their income, or • You don’t want to be responsible for any taxes due if your spouse doesn't have enough tax withheld or doesn't pay enough estimated tax. See the instructions for Married Filing Separately. Also see Innocent Spouse Relief under General Information, later. Nonresident aliens and dual-status ali- ens. Generally, a married couple can't file a joint return if either spouse is a nonresident alien at any time during the year. However, you and your spouse can choose to be treated as U.S. residents for the entire year and file a joint return if one spouse was a nonresident alien at the end of the taxable year (the nonresi- dent spouse) and the other was a U.S. citizen or resident at the end of the taxa- ble year. This choice remains in effect in subsequent years until terminated. You and your spouse can also choose to file as U.S. residents for the entire year if both of you are U.S. citizens or residents at the end of the year and either (or both) of you were a nonresident at the beginning of the year (the dual-status spouse(s)). You can only make this choice for 1 year, and it does not apply to any future years. If you and your spouse are making ei- ther of these choices to be treated as U.S. residents for 2024, check the box in the Filing Status section and enter the Need more information or forms? Visit IRS.gov. 13 name of the nonresident spouse or du- al-status spouse(s) (whichever applies to you) in the entry space. Also check the box and enter their name if you and your nonresident spouse made the choice to be treated as residents in a prior year and the choice remains in effect. To make either choice for 2024, you and your spouse must file a joint return and attach a state- ment, signed by both spouses, to your re- turn. To find out what information must be included in the statement, as well as more information on these choices, see Nonresident Spouse Treated as a Resi- dent for nonresident aliens and Choos- ing Resident Alien Status for dual-status aliens in Pub. 519. Married Filing Separately Check the “Married filing separately” box in the Filing Status section on page 1 of Form 1040 or 1040-SR if you are married, at the end of 2024, and file a separate return. Enter your spouse’s name in the entry space below the filing status checkboxes. Be sure to enter your spouse’s SSN or ITIN in the space for spouse’s SSN on Form 1040 or 1040-SR. If your spouse doesn’t have and isn’t required to have an SSN or ITIN, enter “NRA” in the entry space below the filing status checkboxes. For electronic filing, enter the spou- se's name or “NRA” if the spouse doesn’t have an SSN or ITIN in the en- try space below the filing status check- boxes. If you are married and file a separate return, you generally report only your own income, deductions, and credits. Generally, you are responsible only for the tax on your own income. Different rules apply to people in community property states; see Pub. 555. However, you will usually pay more tax than if you use another filing status for which you qualify. Also, if you file a separate return, you can't take the stu- dent loan interest deduction or the edu- cation credits, and you will only be able to take the earned income credit and child and dependent care credit in very limited circumstances. You also can't take the standard deduction if your spouse itemizes deductions. For situa- tions when you might want to file sepa- rately, see Joint and several tax liability, earlier. CAUTION ! You may be able to file as head of household if you had a child living with you and you lived apart from your spouse during the last 6 months of 2024. See Married persons who live apart, later. Head of Household You can check the “Head of household” box in the Filing Status section on page 1 of Form 1040 or 1040-SR if you are unmarried and provide a home for certain other persons. You are consid- ered unmarried for this purpose if any of the following applies. • You were legally separated accord- ing to your state law under a decree of divorce or separate maintenance at the end of 2024. But if, at the end of 2024, your divorce wasn't final (an interlocuto- ry decree), you are considered married. • You are married but lived apart from your spouse for the last 6 months of 2024 and you meet the other rules un- der Married persons who live apart, lat- er. • You are married and your spouse was a nonresident alien at any time dur- ing the year and the election to treat the alien spouse as a resident alien is not made. See Nonresident aliens and du- al-status aliens, earlier. Check the “Head of household” box on- ly if you are unmarried (or considered unmarried) and either Test 1 or Test 2 applies. Test 1. You paid over half the cost of keeping up a home that was the main home for all of 2024 of your parent whom you can claim as a dependent, ex- cept under a multiple support agreement (see Who Qualifies as Your Dependent, later). Your parent didn't have to live with you. Test 2. You paid over half the cost of keeping up a home in which you lived and in which one of the following also lived for more than half of the year (if half or less, see Exception to time lived with you, later). 1. Any person whom you can claim as a dependent. But don’t include: a. Your child whom you claim as your dependent because of the rule for Children of divorced or separated pa- rents under Who Qualifies as Your De- pendent, later; TIP b. Any person who is your depend- ent only because the person lived with you for all of 2024; or c. Any person you claimed as a de- pendent under a multiple support agree- ment. See Who Qualifies as Your De- pendent, later. 2. Your unmarried qualifying child who isn't your dependent. 3. Your married qualifying child who isn't your dependent only because you can be claimed as a dependent on someone else's 2024 return. 4. Your qualifying child who, even though you are the custodial parent, isn't your dependent because of the rule for Children of divorced or separated pa- rents under Who Qualifies as Your De- pendent, later. If the child isn't claimed as your de- pendent, enter the child's name in the en- try space below the filing status check- boxes. If you don’t enter the name, it will take us longer to process your re- turn. Qualifying child. To find out if some- one is your qualifying child, see Step 1 under Who Qualifies as Your Dependent, later. Dependent. To find out if someone is your dependent, see Who Qualifies as Your Dependent, later. The dependents you claim are those you list by name and SSN in the Dependents section on Form 1040 or 1040-SR. Exception to time lived with you. Temporary absences by you or the other person for special circumstances, such as school, vacation, business, medical care, military service, or detention in a juvenile facility, count as time lived in the home. Also see Kidnapped child, lat- er, under Who Qualifies as Your De- pendent, if applicable. If the person for whom you kept up a home was born or died in 2024, you still may be able to file as head of household. If the person is your qualifying child, the child must have lived with you for more than half the part of the year the child was alive. If the person is anyone else, see Pub. 501. Similarly, if you adopted the person for whom you kept up a home in 2024, the person was lawfully placed with you for legal adoption by TIP 14 Need more information or forms? Visit IRS.gov. you in 2024, or the person was an eligi- ble foster child placed with you during 2024, the person is considered to have lived with you for more than half of 2024 if your main home was this per- son’s main home for more than half the time since the person was adopted or placed with you in 2024. Keeping up a home. To find out what is included in the cost of keeping up a home, see Pub. 501. Married persons who live apart. Even if you weren’t divorced or legally sepa- rated at the end of 2024, you are consid- ered unmarried if all of the following apply. • You lived apart from your spouse for the last 6 months of 2024. Tempora- ry absences for special circumstances, such as for business, medical care, school, or military service, count as time lived in the home. • You file a separate return from your spouse. • You paid over half the cost of keeping up your home for 2024. • Your home was the main home of your child, stepchild, or foster child for more than half of 2024 (if half or less, see Exception to time lived with you, earlier). • You can claim this child as your dependent or could claim the child ex- cept that the child's other parent can claim the child under the rule for Chil- dren of divorced or separated parents under Who Qualifies as Your Dependent, later. Adopted child. An adopted child is always treated as your own child. An adopted child includes a child lawfully placed with you for legal adoption. Foster child. A foster child is any child placed with you by an authorized placement agency or by judgment, de- cree, or other order of any court of com- petent jurisdiction. Qualifying Surviving Spouse You can check the “Qualifying surviving spouse” box in the Filing Status section on page 1 of Form 1040 or 1040-SR and use joint return tax rates for 2024 if all of the following apply. 1. Your spouse died in 2022 or 2023 and you didn't remarry before the end of 2024. 2. You have a child or stepchild (not a foster child) whom you can claim as a dependent or could claim as a dependent except that, for 2024: a. The child had gross income of $5,050 or more, b. The child filed a joint return, or c. You could be claimed as a de- pendent on someone else’s return. If the child isn’t claimed as your de- pendent, enter the child’s name in the entry space below the filing status checkboxes. If you don’t enter the name, it will take us longer to process your re- turn. 3. This child lived in your home for all of 2024. If the child didn't live with you for the required time, see Exception to time lived with you, later. 4. You paid over half the cost of keeping up your home. 5. You could have filed a joint re- turn with your spouse the year your spouse died, even if you didn't actually do so. If your spouse died in 2024, you can't file as qualifying surviving spouse. In- stead, see the instructions for Married Filing Jointly, earlier. Adopted child. An adopted child is al- ways treated as your own child. An adopted child includes a child lawfully placed with you for legal adoption. Dependent. To find out if someone is your dependent, see Who Qualifies as Your Dependent, later. The dependents you claim are those you list by name and SSN in the Dependents section on Form 1040 or 1040-SR. Exception to time lived with you. Temporary absences by you or the child for special circumstances, such as school, vacation, business, medical care, military service, or detention in a juve- nile facility, count as time lived in the home. Also see Kidnapped child, later, under Who Qualifies as Your Dependent, if applicable. A child is considered to have lived with you for all of 2024 if the child was born or died in 2024 and your home was the child's home for the entire time the child was alive. Similarly, if you adop- ted the child in 2024, or the child was lawfully placed with you for legal adop- TIP tion by you in 2024, the child is consid- ered to have lived with you for all of 2024 if your main home was this child's main home for the entire time since the child was adopted or placed with you in 2024. Keeping up a home. To find out what is included in the cost of keeping up a home, see Pub. 501. Digital Assets Digital assets are any digital representa- tions of value that are recorded on a cryptographically secured distributed ledger or any similar technology. For ex- ample, digital assets include non-fungi- ble tokens (NFTs) and virtual currencies, such as cryptocurrencies and stable- coins. If a particular asset has the char- acteristics of a digital asset, it will be treated as a digital asset for federal in- come tax purposes. Check the “Yes” box next to the question on digital assets on page 1 of Form 1040 or 1040-SR if at any time during 2024, you (a) received (as a re- ward, award, or payment for property or services); or (b) sold, exchanged, or oth- erwise disposed of a digital asset (or any financial interest in any digital asset). For example, check “Yes” if at any time during 2024 you: • Received digital assets as payment for property or services provided; • Received digital assets as a result of a reward or award; • Received new digital assets as a result of mining, staking, and similar ac- tivities; • Received digital assets as a result of a hard fork; • Disposed of digital assets in ex- change for property or services; • Disposed of a digital asset in ex- change or trade for another digital asset; • Sold a digital asset; or • Otherwise disposed of any other fi- nancial interest in a digital asset. You have a financial interest in a dig- ital asset if you are the owner of record of a digital asset, or have an ownership stake in an account that holds one or more digital assets, including the rights and obligations to acquire a financial in- terest, or you own a wallet that holds digital assets. The following actions or transactions in 2024, alone, generally don’t require you to check “Yes”: Need more information or forms? Visit IRS.gov. 15 • Holding a digital asset in a wallet or account; • Transferring a digital asset from one wallet or account you own or con- trol to another wallet or account that you own or control; or • Purchasing digital assets using U.S. or other real currency, including through the use of electronic platforms such as PayPal and Venmo. Do not leave the question unan- swered. You must answer “Yes” or “No” by checking the appro- priate box. For more information, go to IRS.gov/VirtualCurrencyFAQs. How To Report Digital Asset Transactions If, in 2024, you disposed of any digital asset, which you held as a capital asset, through a sale, trade, exchange, pay- ment, or other transfer, check “Yes” and use Form 8949 to calculate your capital gain or loss and report that gain or loss on Schedule D (Form 1040). If you received any digital asset as compensation for services or disposed of any digital asset that you held for sale to customers in a trade or business, you must report the income as you would re- port other income of the same type (for example, W-2 wages on Form 1040 or 1040-SR, line 1a, or inventory or serv- ices on Schedule C). If you received ordinary income in connection with digital assets that isn't reported elsewhere on your return, see the instructions for Schedule 1, line 8v. If you disposed of any digital asset by gift, you may be required to file Form 709. See Who Must File and Transfers Subject to the Gift Tax in the Instructions for Form 709 for more information. Standard Deduction If you are filing Form 1040-SR, you can find a Standard Deduc- tion Chart on the last page of that form. Don’t file the Standard De- duction Chart with your return. CAUTION ! TIP Single and Married Filing Jointly If you or your spouse (if you are married and filing a joint return) can be claimed as a dependent on someone else’s return, check the appropriate box in the Stand- ard Deduction section. If you are married and file a joint re- turn, you can be claimed as a dependent on someone else's return if you file the joint return only to claim a refund of withheld income tax or estimated tax paid. If you were a dual-status alien, check the “Spouse itemizes on a separate re- turn or you were a dual-status alien” box. If you were a dual-status alien and you file a joint return with your spouse who was a U.S. citizen or resident alien at the end of 2024 and you and your spouse agree to be taxed on your com- bined worldwide income, don’t check the box. See Nonresident aliens and du- al-status aliens, earlier, for more infor- mation on making the election for you and your spouse to be taxed on your combined worldwide income. Age/Blindness If you or your spouse (if you are married and filing a joint return) were born be- fore January 2, 1960, or were blind at the end of 2024, check the appropriate boxes on the line labeled “Age/Blind- ness.” Don’t check any boxes for your spouse if your filing status is head of household. Death of spouse in 2024. If your spouse was born before January 2, 1960, but died in 2024 before reaching age 65, don’t check the box that says “Spouse was born before January 2, 1960.” A person is considered to reach age 65 on the day before the person’s 65th birthday. Example. Your spouse was born on February 14, 1959, and died on February 13, 2024. Your spouse is considered age 65 at the time of death. Check the appro- priate box for your spouse. However, if your spouse died on February 12, 2024, your spouse isn't considered age 65. Don’t check the box. Death of taxpayer in 2024. If you are preparing a return for someone who died in 2024, see Pub. 501 before completing the standard deduction information. Blindness If you weren’t totally blind as of Decem- ber 31, 2024, you must get a statement certified by your eye doctor (ophthal- mologist or optometrist) that: • You can't see better than 20/200 in your better eye with glasses or contact lenses, or • Your field of vision is 20 degrees or less. If your eye condition isn't likely to improve beyond the conditions listed above, you can get a statement certified by your eye doctor (ophthalmologist or optometrist) to this effect instead. You must keep the statement for your re- cords. If you receive a notice or letter but you would prefer to have it in Braille or large print, you can use Form 9000, Al- ternative Media Preference, to request notices in an alternative format includ- ing Braille, large print, audio, or elec- tronic. You can attach Form 9000 to your return or mail it separately. • You can download, or view online, tax forms and publications in a variety of formats including text-only, Braille ready files, browser-friendly HTML (other than tax forms), accessible PDF, and large print. Married Filing Separately If your filing status is married filing sep- arately and your spouse itemizes deduc- tions on their return, check the “Spouse itemizes on a separate return or you were a dual-status alien” box. If your filing status is married filing separately and your spouse was born be- fore January 2, 1960, or was blind at the end of 2024, you can check the appro- priate box(es) on the line labeled “Age/ Blindness” if your spouse had no in- come, isn't filing a return, and can't be claimed as a dependent on another per- son's return. 16 Need more information or forms? Visit IRS.gov.\n"
     ]
    }
   ],
   "source": [
    "def extract_text_pymupdf(pdf_path):\n",
    "    text = \"\"\n",
    "    with fitz.open(pdf_path) as doc:\n",
    "        for page in doc:\n",
    "            text += page.get_text()\n",
    "    return text\n",
    "\n",
    "def clean_pdf_text(text):\n",
    "    # Replace multiple newlines with single spaces\n",
    "    text = re.sub(r'\\n+', ' ', text)\n",
    "    # Replace multiple spaces with single space\n",
    "    text = re.sub(r'\\s+', ' ', text)\n",
    "    # Strip leading/trailing whitespace\n",
    "    text = text.strip()\n",
    "    return text\n",
    "\n",
    "pdf_text = extract_text_pymupdf(\"./i1040gi.pdf\")\n",
    "\n",
    "# Clean the extracted text\n",
    "pdf_text = clean_pdf_text(pdf_text)\n",
    "\n",
    "# print(pdf_text[:500])  # Print first 500 characters\n",
    "print(pdf_text)\n"
   ]
  },
  {
   "cell_type": "code",
   "execution_count": 18,
   "id": "17c6c953",
   "metadata": {},
   "outputs": [
    {
     "data": {
      "text/plain": [
       "5045"
      ]
     },
     "execution_count": 18,
     "metadata": {},
     "output_type": "execute_result"
    }
   ],
   "source": [
    "len(pdf_text)"
   ]
  },
  {
   "cell_type": "code",
   "execution_count": null,
   "id": "ac5d6453",
   "metadata": {},
   "outputs": [],
   "source": [
    "from langchain.text_splitter import RecursiveCharacterTextSplitter\n",
    "\n",
    "text_splitter = RecursiveCharacterTextSplitter(chunk_size=1000, chunk_overlap=100)\n",
    "\"\"\"\n",
    "Notice the difference - pdf_text vs [pdf_text]. The create_documents() method expects a list of texts, not a single string. When you pass a single string, it treats each character as a separate document.\n",
    "\"\"\"\n",
    "chunks = text_splitter.create_documents([pdf_text])\n"
   ]
  },
  {
   "cell_type": "code",
   "execution_count": 8,
   "id": "844241ab",
   "metadata": {},
   "outputs": [
    {
     "data": {
      "text/plain": [
       "[Document(metadata={}, page_content=\"Line Instructions for Forms 1040 and 1040-SR Also see the instructions for Schedule 1 through Schedule 3 that follow the Form 1040 and 1040-SR instructions. What form to file. Everyone can file Form 1040. Form 1040-SR is available to you if you were born before January 2, 1960. Fiscal year filers. If you are a fiscal year filer using a tax year other than January 1 through December 31, 2024, enter the beginning and ending months of your fiscal year in the entry space provided at the top of page 1 of Form 1040 or 1040-SR. Write-in information. If you need to write a word, code, and/or dollar amount on Form 1040 or 1040-SR to explain an item of income or deduction, but don't have enough space to enter the word, code, and/or dollar amount, you can put an asterisk next to the applicable line number and put a footnote at the bottom of page 2 of your tax return indicating the line number and the word, code, and/or dollar amount you need to enter. Section references are to the Internal\"),\n",
       " Document(metadata={}, page_content=\"and the word, code, and/or dollar amount you need to enter. Section references are to the Internal Revenue Code. CAUTION ! Name and Address Print or type the information in the spaces provided. If you are married fil- ing a separate return, enter your spouse's name in the entry space below the filing status checkboxes instead of below your name. If you are currently incarcerated, enter your inmate identifying number near your last name. If you filed a joint return for 2023 and you are filing a joint return for 2024 with the same spouse, be sure to enter your names and SSNs in the same order as on your 2023 return. Name Change If you changed your name because of marriage, divorce, etc., be sure to report the change to the Social Security Ad- ministration (SSA) before filing your re- turn. This prevents delays in processing your return and issuing refunds. It also safeguards your future social security benefits. Address Change If you plan to move after filing your re- turn, use Form\"),\n",
       " Document(metadata={}, page_content=\"social security benefits. Address Change If you plan to move after filing your re- turn, use Form 8822 to notify the IRS of your new address. P.O. Box Enter your box number only if your post office doesn't deliver mail to your home. Foreign Address If you have a foreign address, enter the city name on the appropriate line. Don’t TIP enter any other information on that line, but also complete the spaces below that line. Don’t abbreviate the country name. Follow the country’s practice for enter- ing the postal code and the name of the province, county, or state. Death of a Taxpayer If a taxpayer died before filing a return for 2024, the taxpayer's spouse or per- sonal representative may have to file and sign a return for that taxpayer. A person- al representative can be an executor, ad- ministrator, or anyone who is in charge of the deceased taxpayer's property. If the deceased taxpayer didn't have to file a return but had tax withheld, a return must be filed to get a refund. The person\"),\n",
       " Document(metadata={}, page_content=\"have to file a return but had tax withheld, a return must be filed to get a refund. The person who files the return must enter “De- ceased,” the deceased taxpayer's name, and the date of death across the top of the return. If this information isn't provi- ded, it may delay the processing of the return. If your spouse died in 2024 and you didn't remarry in 2024, or if your spouse died in 2025 before filing a return for 2024, you can file a joint return. A joint return should show your spouse's 2024 income before death and your income for all of 2024. Enter “Filing as surviv- ing spouse” in the area where you sign the return. If someone else is the person- al representative, they must also sign. All payers of income, including fi- nancial institutions, should be promptly notified of the taxpayer's death. This will ensure the proper reporting of in- come earned by the taxpayer's estate or heirs. A deceased taxpayer's social se- curity number shouldn't be used for tax years after the year\"),\n",
       " Document(metadata={}, page_content=\"A deceased taxpayer's social se- curity number shouldn't be used for tax years after the year of death, except for estate tax return purposes. Social Security Number (SSN) An incorrect or missing SSN can in- crease your tax, reduce your refund, or delay your refund. To apply for an SSN, fill in Form SS-5 and return it, along with the appropriate evidence docu- ments, to the Social Security Adminis- tration (SSA). You can get Form SS-5 online at SSA.gov/forms/ss-5.pdf, from your local SSA office, or by calling the SSA at 800-772-1213. It usually takes about 2 weeks to get an SSN once the SSA has all the evidence and informa- tion it needs. Check that both the name and SSN on your Forms 1040 or 1040-SR, W-2, and 1099 agree with your social security card. If they don’t, certain deductions and credits on Form 1040 or 1040-SR may be reduced or disallowed and you may not receive credit for your social security earnings. If your Form W-2 shows an incorrect SSN or name, notify your employer\"),\n",
       " Document(metadata={}, page_content='social security earnings. If your Form W-2 shows an incorrect SSN or name, notify your employer or the form-issuing agent as soon as possible to make sure your earnings are credited to your social se- curity record. If the name or SSN on your social security card is incorrect, call the SSA. Once you are issued an SSN, use it to file your tax return. Use your SSN to file your tax return even if your SSN does not authorize employment or if you have been issued an SSN that authorizes em- 12 Need more information or forms? Visit IRS.gov. ployment and you lose your employ- ment authorization. An ITIN won’t be issued to you once you have been issued an SSN. If you received your SSN after previously using an ITIN, stop using your ITIN. Use your SSN instead. IRS Individual Taxpayer Identification Numbers (ITINs) for Aliens If you are a nonresident or resident alien and you don’t have and aren’t eligible to get an SSN, you must apply for an ITIN. It takes about 7 weeks to get an ITIN. If you'),\n",
       " Document(metadata={}, page_content=\"eligible to get an SSN, you must apply for an ITIN. It takes about 7 weeks to get an ITIN. If you already have an ITIN, enter it wherever your SSN is requested on your tax return. Some ITINs must be renewed. If you haven't used your ITIN on a federal tax return at least once for tax years 2021, 2022, or 2023, it has expired and must be renewed if you need to file a federal tax return. You don't need to renew your ITIN if you don't need to file a federal tax return. You can find more informa- tion at IRS.gov/ITIN. An ITIN is for tax use only. It doesn't entitle you to social security benefits or change your employment or immigra- tion status under U.S. law. For more information on ITINs, in- cluding application, expiration, and re- newal, see Form W-7 and its instruc- tions. If you receive an SSN after previous- ly using an ITIN, stop using your ITIN. Use your SSN instead. Visit a local IRS office or write a letter to the IRS ex- plaining that you now have an SSN and want all your tax\"),\n",
       " Document(metadata={}, page_content=\"IRS office or write a letter to the IRS ex- plaining that you now have an SSN and want all your tax records combined un- der your SSN. Details about what to in- clude with the letter and where to mail it are at IRS.gov/ITIN. Nonresident Alien Spouse If your spouse is a nonresident alien, your spouse must have either an SSN or an ITIN if: • You file a joint return, or • Your spouse is filing a separate re- turn. Presidential Election Campaign Fund This fund helps pay for Presidential election campaigns. The fund reduces candidates' dependence on large contri- butions from individuals and groups and places candidates on an equal financial footing in the general election. The fund also helps pay for pediatric medical re- search. If you want $3 to go to this fund, check the box. If you are filing a joint return, your spouse can also have $3 go to the fund. If you check a box, your tax or refund won't change. Filing Status Check only the filing status that applies to you. The ones that\"),\n",
       " Document(metadata={}, page_content=\"refund won't change. Filing Status Check only the filing status that applies to you. The ones that will usually give you the lowest tax are listed last. • Married filing separately. • Single. • Head of household. • Married filing jointly. • Qualifying surviving spouse. For information about marital status, see Pub. 501. More than one filing status can apply to you. You can choose the one for which you qualify that will give you the lowest tax. Single You can check the “Single” box in the Filing Status section on page 1 of Form 1040 or 1040-SR if any of the following was true on December 31, 2024. • You were never married. • You were legally separated accord- ing to your state law under a decree of divorce or separate maintenance. But if, at the end of 2024, your divorce wasn't final (an interlocutory decree), you are considered married and can't check the box. • You were widowed before January 1, 2024, and didn't remarry before the end of 2024. But if you have a child, you may be able\"),\n",
       " Document(metadata={}, page_content=\"1, 2024, and didn't remarry before the end of 2024. But if you have a child, you may be able to use the qualifying surviving spouse filing status. See the instructions for Qualifying Surviving Spouse, later. Married Filing Jointly You can check the “Married filing joint- ly” box in the Filing Status section on page 1 of Form 1040 or 1040-SR if any of the following apply. • You were married at the end of 2024, even if you didn't live with your spouse at the end of 2024. • Your spouse died in 2024 and you didn't remarry in 2024. TIP • You were married at the end of 2024 and your spouse died in 2025 be- fore filing a 2024 return. A married couple filing jointly report their combined income and deduct their combined allowable expenses on one re- turn. They can file a joint return even if only one had income or if they didn't live together all year. However, both persons must sign the return. Once you file a joint return, you can't choose to file separate returns for that year after the\"),\n",
       " Document(metadata={}, page_content=\"Once you file a joint return, you can't choose to file separate returns for that year after the due date of the return. Joint and several tax liability. If you file a joint return, both you and your spouse are generally responsible for the tax and interest or penalties due on the return. This means that if one spouse doesn't pay the tax due, the other may have to. Or, if one spouse doesn't report the correct tax, both spouses may be re- sponsible for any additional taxes as- sessed by the IRS. You may want to file separately if: • You believe your spouse isn't re- porting all of their income, or • You don’t want to be responsible for any taxes due if your spouse doesn't have enough tax withheld or doesn't pay enough estimated tax. See the instructions for Married Filing Separately. Also see Innocent Spouse Relief under General Information, later. Nonresident aliens and dual-status ali- ens. Generally, a married couple can't file a joint return if either spouse is a nonresident alien\"),\n",
       " Document(metadata={}, page_content=\"ens. Generally, a married couple can't file a joint return if either spouse is a nonresident alien at any time during the year. However, you and your spouse can choose to be treated as U.S. residents for the entire year and file a joint return if one spouse was a nonresident alien at the end of the taxable year (the nonresi- dent spouse) and the other was a U.S. citizen or resident at the end of the taxa- ble year. This choice remains in effect in subsequent years until terminated. You and your spouse can also choose to file as U.S. residents for the entire year if both of you are U.S. citizens or residents at the end of the year and either (or both) of you were a nonresident at the beginning of the year (the dual-status spouse(s)). You can only make this choice for 1 year, and it does not apply to any future years. If you and your spouse are making ei- ther of these choices to be treated as U.S. residents for 2024, check the box in the Filing Status section and enter the Need more\"),\n",
       " Document(metadata={}, page_content='as U.S. residents for 2024, check the box in the Filing Status section and enter the Need more information or forms? Visit IRS.gov. 13 name of the nonresident spouse or du- al-status spouse(s) (whichever applies to you) in the entry space. Also check the box and enter their name if you and your nonresident spouse made the choice to be treated as residents in a prior year and the choice remains in effect. To make either choice for 2024, you and your spouse must file a joint return and attach a state- ment, signed by both spouses, to your re- turn. To find out what information must be included in the statement, as well as more information on these choices, see Nonresident Spouse Treated as a Resi- dent for nonresident aliens and Choos- ing Resident Alien Status for dual-status aliens in Pub. 519. Married Filing Separately Check the “Married filing separately” box in the Filing Status section on page 1 of Form 1040 or 1040-SR if you are married, at the end of 2024, and file a separate'),\n",
       " Document(metadata={}, page_content=\"on page 1 of Form 1040 or 1040-SR if you are married, at the end of 2024, and file a separate return. Enter your spouse’s name in the entry space below the filing status checkboxes. Be sure to enter your spouse’s SSN or ITIN in the space for spouse’s SSN on Form 1040 or 1040-SR. If your spouse doesn’t have and isn’t required to have an SSN or ITIN, enter “NRA” in the entry space below the filing status checkboxes. For electronic filing, enter the spou- se's name or “NRA” if the spouse doesn’t have an SSN or ITIN in the en- try space below the filing status check- boxes. If you are married and file a separate return, you generally report only your own income, deductions, and credits. Generally, you are responsible only for the tax on your own income. Different rules apply to people in community property states; see Pub. 555. However, you will usually pay more tax than if you use another filing status for which you qualify. Also, if you file a separate return, you can't take the stu-\"),\n",
       " Document(metadata={}, page_content=\"filing status for which you qualify. Also, if you file a separate return, you can't take the stu- dent loan interest deduction or the edu- cation credits, and you will only be able to take the earned income credit and child and dependent care credit in very limited circumstances. You also can't take the standard deduction if your spouse itemizes deductions. For situa- tions when you might want to file sepa- rately, see Joint and several tax liability, earlier. CAUTION ! You may be able to file as head of household if you had a child living with you and you lived apart from your spouse during the last 6 months of 2024. See Married persons who live apart, later. Head of Household You can check the “Head of household” box in the Filing Status section on page 1 of Form 1040 or 1040-SR if you are unmarried and provide a home for certain other persons. You are consid- ered unmarried for this purpose if any of the following applies. • You were legally separated accord- ing to your state law\"),\n",
       " Document(metadata={}, page_content=\"purpose if any of the following applies. • You were legally separated accord- ing to your state law under a decree of divorce or separate maintenance at the end of 2024. But if, at the end of 2024, your divorce wasn't final (an interlocuto- ry decree), you are considered married. • You are married but lived apart from your spouse for the last 6 months of 2024 and you meet the other rules un- der Married persons who live apart, lat- er. • You are married and your spouse was a nonresident alien at any time dur- ing the year and the election to treat the alien spouse as a resident alien is not made. See Nonresident aliens and du- al-status aliens, earlier. Check the “Head of household” box on- ly if you are unmarried (or considered unmarried) and either Test 1 or Test 2 applies. Test 1. You paid over half the cost of keeping up a home that was the main home for all of 2024 of your parent whom you can claim as a dependent, ex- cept under a multiple support agreement (see Who Qualifies as\"),\n",
       " Document(metadata={}, page_content=\"you can claim as a dependent, ex- cept under a multiple support agreement (see Who Qualifies as Your Dependent, later). Your parent didn't have to live with you. Test 2. You paid over half the cost of keeping up a home in which you lived and in which one of the following also lived for more than half of the year (if half or less, see Exception to time lived with you, later). 1. Any person whom you can claim as a dependent. But don’t include: a. Your child whom you claim as your dependent because of the rule for Children of divorced or separated pa- rents under Who Qualifies as Your De- pendent, later; TIP b. Any person who is your depend- ent only because the person lived with you for all of 2024; or c. Any person you claimed as a de- pendent under a multiple support agree- ment. See Who Qualifies as Your De- pendent, later. 2. Your unmarried qualifying child who isn't your dependent. 3. Your married qualifying child who isn't your dependent only because you can be claimed as a\"),\n",
       " Document(metadata={}, page_content=\"3. Your married qualifying child who isn't your dependent only because you can be claimed as a dependent on someone else's 2024 return. 4. Your qualifying child who, even though you are the custodial parent, isn't your dependent because of the rule for Children of divorced or separated pa- rents under Who Qualifies as Your De- pendent, later. If the child isn't claimed as your de- pendent, enter the child's name in the en- try space below the filing status check- boxes. If you don’t enter the name, it will take us longer to process your re- turn. Qualifying child. To find out if some- one is your qualifying child, see Step 1 under Who Qualifies as Your Dependent, later. Dependent. To find out if someone is your dependent, see Who Qualifies as Your Dependent, later. The dependents you claim are those you list by name and SSN in the Dependents section on Form 1040 or 1040-SR. Exception to time lived with you. Temporary absences by you or the other person for special circumstances, such\"),\n",
       " Document(metadata={}, page_content='time lived with you. Temporary absences by you or the other person for special circumstances, such as school, vacation, business, medical care, military service, or detention in a juvenile facility, count as time lived in the home. Also see Kidnapped child, lat- er, under Who Qualifies as Your De- pendent, if applicable. If the person for whom you kept up a home was born or died in 2024, you still may be able to file as head of household. If the person is your qualifying child, the child must have lived with you for more than half the part of the year the child was alive. If the person is anyone else, see Pub. 501. Similarly, if you adopted the person for whom you kept up a home in 2024, the person was lawfully placed with you for legal adoption by TIP 14 Need more information or forms? Visit IRS.gov. you in 2024, or the person was an eligi- ble foster child placed with you during 2024, the person is considered to have lived with you for more than half of 2024 if your main home was'),\n",
       " Document(metadata={}, page_content='the person is considered to have lived with you for more than half of 2024 if your main home was this per- son’s main home for more than half the time since the person was adopted or placed with you in 2024. Keeping up a home. To find out what is included in the cost of keeping up a home, see Pub. 501. Married persons who live apart. Even if you weren’t divorced or legally sepa- rated at the end of 2024, you are consid- ered unmarried if all of the following apply. • You lived apart from your spouse for the last 6 months of 2024. Tempora- ry absences for special circumstances, such as for business, medical care, school, or military service, count as time lived in the home. • You file a separate return from your spouse. • You paid over half the cost of keeping up your home for 2024. • Your home was the main home of your child, stepchild, or foster child for more than half of 2024 (if half or less, see Exception to time lived with you, earlier). • You can claim this child as your'),\n",
       " Document(metadata={}, page_content=\"half or less, see Exception to time lived with you, earlier). • You can claim this child as your dependent or could claim the child ex- cept that the child's other parent can claim the child under the rule for Chil- dren of divorced or separated parents under Who Qualifies as Your Dependent, later. Adopted child. An adopted child is always treated as your own child. An adopted child includes a child lawfully placed with you for legal adoption. Foster child. A foster child is any child placed with you by an authorized placement agency or by judgment, de- cree, or other order of any court of com- petent jurisdiction. Qualifying Surviving Spouse You can check the “Qualifying surviving spouse” box in the Filing Status section on page 1 of Form 1040 or 1040-SR and use joint return tax rates for 2024 if all of the following apply. 1. Your spouse died in 2022 or 2023 and you didn't remarry before the end of 2024. 2. You have a child or stepchild (not a foster child) whom you can claim as a\"),\n",
       " Document(metadata={}, page_content=\"the end of 2024. 2. You have a child or stepchild (not a foster child) whom you can claim as a dependent or could claim as a dependent except that, for 2024: a. The child had gross income of $5,050 or more, b. The child filed a joint return, or c. You could be claimed as a de- pendent on someone else’s return. If the child isn’t claimed as your de- pendent, enter the child’s name in the entry space below the filing status checkboxes. If you don’t enter the name, it will take us longer to process your re- turn. 3. This child lived in your home for all of 2024. If the child didn't live with you for the required time, see Exception to time lived with you, later. 4. You paid over half the cost of keeping up your home. 5. You could have filed a joint re- turn with your spouse the year your spouse died, even if you didn't actually do so. If your spouse died in 2024, you can't file as qualifying surviving spouse. In- stead, see the instructions for Married Filing Jointly, earlier. Adopted\"),\n",
       " Document(metadata={}, page_content=\"surviving spouse. In- stead, see the instructions for Married Filing Jointly, earlier. Adopted child. An adopted child is al- ways treated as your own child. An adopted child includes a child lawfully placed with you for legal adoption. Dependent. To find out if someone is your dependent, see Who Qualifies as Your Dependent, later. The dependents you claim are those you list by name and SSN in the Dependents section on Form 1040 or 1040-SR. Exception to time lived with you. Temporary absences by you or the child for special circumstances, such as school, vacation, business, medical care, military service, or detention in a juve- nile facility, count as time lived in the home. Also see Kidnapped child, later, under Who Qualifies as Your Dependent, if applicable. A child is considered to have lived with you for all of 2024 if the child was born or died in 2024 and your home was the child's home for the entire time the child was alive. Similarly, if you adop- ted the child in 2024, or\"),\n",
       " Document(metadata={}, page_content=\"home for the entire time the child was alive. Similarly, if you adop- ted the child in 2024, or the child was lawfully placed with you for legal adop- TIP tion by you in 2024, the child is consid- ered to have lived with you for all of 2024 if your main home was this child's main home for the entire time since the child was adopted or placed with you in 2024. Keeping up a home. To find out what is included in the cost of keeping up a home, see Pub. 501. Digital Assets Digital assets are any digital representa- tions of value that are recorded on a cryptographically secured distributed ledger or any similar technology. For ex- ample, digital assets include non-fungi- ble tokens (NFTs) and virtual currencies, such as cryptocurrencies and stable- coins. If a particular asset has the char- acteristics of a digital asset, it will be treated as a digital asset for federal in- come tax purposes. Check the “Yes” box next to the question on digital assets on page 1 of Form 1040 or 1040-SR if\"),\n",
       " Document(metadata={}, page_content='Check the “Yes” box next to the question on digital assets on page 1 of Form 1040 or 1040-SR if at any time during 2024, you (a) received (as a re- ward, award, or payment for property or services); or (b) sold, exchanged, or oth- erwise disposed of a digital asset (or any financial interest in any digital asset). For example, check “Yes” if at any time during 2024 you: • Received digital assets as payment for property or services provided; • Received digital assets as a result of a reward or award; • Received new digital assets as a result of mining, staking, and similar ac- tivities; • Received digital assets as a result of a hard fork; • Disposed of digital assets in ex- change for property or services; • Disposed of a digital asset in ex- change or trade for another digital asset; • Sold a digital asset; or • Otherwise disposed of any other fi- nancial interest in a digital asset. You have a financial interest in a dig- ital asset if you are the owner of record of a digital asset,'),\n",
       " Document(metadata={}, page_content='have a financial interest in a dig- ital asset if you are the owner of record of a digital asset, or have an ownership stake in an account that holds one or more digital assets, including the rights and obligations to acquire a financial in- terest, or you own a wallet that holds digital assets. The following actions or transactions in 2024, alone, generally don’t require you to check “Yes”: Need more information or forms? Visit IRS.gov. 15 • Holding a digital asset in a wallet or account; • Transferring a digital asset from one wallet or account you own or con- trol to another wallet or account that you own or control; or • Purchasing digital assets using U.S. or other real currency, including through the use of electronic platforms such as PayPal and Venmo. Do not leave the question unan- swered. You must answer “Yes” or “No” by checking the appro- priate box. For more information, go to IRS.gov/VirtualCurrencyFAQs. How To Report Digital Asset Transactions If, in 2024, you disposed'),\n",
       " Document(metadata={}, page_content=\"to IRS.gov/VirtualCurrencyFAQs. How To Report Digital Asset Transactions If, in 2024, you disposed of any digital asset, which you held as a capital asset, through a sale, trade, exchange, pay- ment, or other transfer, check “Yes” and use Form 8949 to calculate your capital gain or loss and report that gain or loss on Schedule D (Form 1040). If you received any digital asset as compensation for services or disposed of any digital asset that you held for sale to customers in a trade or business, you must report the income as you would re- port other income of the same type (for example, W-2 wages on Form 1040 or 1040-SR, line 1a, or inventory or serv- ices on Schedule C). If you received ordinary income in connection with digital assets that isn't reported elsewhere on your return, see the instructions for Schedule 1, line 8v. If you disposed of any digital asset by gift, you may be required to file Form 709. See Who Must File and Transfers Subject to the Gift Tax in the Instructions\"),\n",
       " Document(metadata={}, page_content=\"to file Form 709. See Who Must File and Transfers Subject to the Gift Tax in the Instructions for Form 709 for more information. Standard Deduction If you are filing Form 1040-SR, you can find a Standard Deduc- tion Chart on the last page of that form. Don’t file the Standard De- duction Chart with your return. CAUTION ! TIP Single and Married Filing Jointly If you or your spouse (if you are married and filing a joint return) can be claimed as a dependent on someone else’s return, check the appropriate box in the Stand- ard Deduction section. If you are married and file a joint re- turn, you can be claimed as a dependent on someone else's return if you file the joint return only to claim a refund of withheld income tax or estimated tax paid. If you were a dual-status alien, check the “Spouse itemizes on a separate re- turn or you were a dual-status alien” box. If you were a dual-status alien and you file a joint return with your spouse who was a U.S. citizen or resident alien at the\"),\n",
       " Document(metadata={}, page_content='alien and you file a joint return with your spouse who was a U.S. citizen or resident alien at the end of 2024 and you and your spouse agree to be taxed on your com- bined worldwide income, don’t check the box. See Nonresident aliens and du- al-status aliens, earlier, for more infor- mation on making the election for you and your spouse to be taxed on your combined worldwide income. Age/Blindness If you or your spouse (if you are married and filing a joint return) were born be- fore January 2, 1960, or were blind at the end of 2024, check the appropriate boxes on the line labeled “Age/Blind- ness.” Don’t check any boxes for your spouse if your filing status is head of household. Death of spouse in 2024. If your spouse was born before January 2, 1960, but died in 2024 before reaching age 65, don’t check the box that says “Spouse was born before January 2, 1960.” A person is considered to reach age 65 on the day before the person’s 65th birthday. Example. Your spouse was born on'),\n",
       " Document(metadata={}, page_content=\"to reach age 65 on the day before the person’s 65th birthday. Example. Your spouse was born on February 14, 1959, and died on February 13, 2024. Your spouse is considered age 65 at the time of death. Check the appro- priate box for your spouse. However, if your spouse died on February 12, 2024, your spouse isn't considered age 65. Don’t check the box. Death of taxpayer in 2024. If you are preparing a return for someone who died in 2024, see Pub. 501 before completing the standard deduction information. Blindness If you weren’t totally blind as of Decem- ber 31, 2024, you must get a statement certified by your eye doctor (ophthal- mologist or optometrist) that: • You can't see better than 20/200 in your better eye with glasses or contact lenses, or • Your field of vision is 20 degrees or less. If your eye condition isn't likely to improve beyond the conditions listed above, you can get a statement certified by your eye doctor (ophthalmologist or optometrist) to this effect instead. You\"),\n",
       " Document(metadata={}, page_content='statement certified by your eye doctor (ophthalmologist or optometrist) to this effect instead. You must keep the statement for your re- cords. If you receive a notice or letter but you would prefer to have it in Braille or large print, you can use Form 9000, Al- ternative Media Preference, to request notices in an alternative format includ- ing Braille, large print, audio, or elec- tronic. You can attach Form 9000 to your return or mail it separately. • You can download, or view online, tax forms and publications in a variety of formats including text-only, Braille ready files, browser-friendly HTML (other than tax forms), accessible PDF, and large print. Married Filing Separately If your filing status is married filing sep- arately and your spouse itemizes deduc- tions on their return, check the “Spouse itemizes on a separate return or you were a dual-status alien” box. If your filing status is married filing separately and your spouse was born be- fore January 2, 1960, or was blind'),\n",
       " Document(metadata={}, page_content=\"status is married filing separately and your spouse was born be- fore January 2, 1960, or was blind at the end of 2024, you can check the appro- priate box(es) on the line labeled “Age/ Blindness” if your spouse had no in- come, isn't filing a return, and can't be claimed as a dependent on another per- son's return. 16 Need more information or forms? Visit IRS.gov.\")]"
      ]
     },
     "execution_count": 8,
     "metadata": {},
     "output_type": "execute_result"
    }
   ],
   "source": [
    "chunks"
   ]
  },
  {
   "cell_type": "code",
   "execution_count": 9,
   "id": "6e23b083",
   "metadata": {},
   "outputs": [
    {
     "data": {
      "text/plain": [
       "32"
      ]
     },
     "execution_count": 9,
     "metadata": {},
     "output_type": "execute_result"
    }
   ],
   "source": [
    "len(chunks)"
   ]
  },
  {
   "cell_type": "code",
   "execution_count": 10,
   "id": "34b79458",
   "metadata": {},
   "outputs": [
    {
     "data": {
      "text/plain": [
       "\"Line Instructions for Forms 1040 and 1040-SR Also see the instructions for Schedule 1 through Schedule 3 that follow the Form 1040 and 1040-SR instructions. What form to file. Everyone can file Form 1040. Form 1040-SR is available to you if you were born before January 2, 1960. Fiscal year filers. If you are a fiscal year filer using a tax year other than January 1 through December 31, 2024, enter the beginning and ending months of your fiscal year in the entry space provided at the top of page 1 of Form 1040 or 1040-SR. Write-in information. If you need to write a word, code, and/or dollar amount on Form 1040 or 1040-SR to explain an item of income or deduction, but don't have enough space to enter the word, code, and/or dollar amount, you can put an asterisk next to the applicable line number and put a footnote at the bottom of page 2 of your tax return indicating the line number and the word, code, and/or dollar amount you need to enter. Section references are to the Internal\""
      ]
     },
     "execution_count": 10,
     "metadata": {},
     "output_type": "execute_result"
    }
   ],
   "source": [
    "chunks[0].page_content"
   ]
  },
  {
   "cell_type": "markdown",
   "id": "3ad1821c",
   "metadata": {},
   "source": [
    "# Generate embeddings\n",
    "* use OpenAI, HuggingFace, or Cohere to covert text chunks into embeddings"
   ]
  },
  {
   "cell_type": "code",
   "execution_count": 11,
   "id": "aeb579b0",
   "metadata": {},
   "outputs": [],
   "source": [
    "# from langchain.embeddings import OpenAIEmbeddings\n",
    "from langchain_openai import OpenAIEmbeddings\n",
    "\n",
    "embedding_model = OpenAIEmbeddings(openai_api_key = OPENAI_API_KEY)\n",
    "vectors = embedding_model.embed_documents([chunk.page_content for chunk in chunks])\n"
   ]
  },
  {
   "cell_type": "code",
   "execution_count": 12,
   "id": "9c014841",
   "metadata": {},
   "outputs": [
    {
     "data": {
      "text/plain": [
       "32"
      ]
     },
     "execution_count": 12,
     "metadata": {},
     "output_type": "execute_result"
    }
   ],
   "source": [
    "len(vectors)"
   ]
  },
  {
   "cell_type": "code",
   "execution_count": 13,
   "id": "2454706d",
   "metadata": {},
   "outputs": [],
   "source": [
    "# # using huggingface\n",
    "# from langchain.embeddings import HuggingFaceEmbeddings  \n",
    "# embedding_model = HuggingFaceEmbeddings(model_name=\"sentence-transformers/all-MiniLM-L6-v2\")\n",
    "# vectors = embedding_model.embed_documents([chunk.page_content for chunk in chunks]) \n",
    "\n",
    "# using sentence_transformers\n",
    "# from langchain.embeddings import SentenceTransformerEmbeddings\n",
    "# embedding_model = SentenceTransformerEmbeddings(model_name=\"sentence-transformers/all-MiniLM-L6-v2\")\n",
    "# vectors = embedding_model.embed_documents([chunk.page_content for chunk in chunks]) \n",
    "\n",
    "# # using OpenAI\n",
    "# from langchain.embeddings import OpenAIEmbeddings\n",
    "# embedding_model = OpenAIEmbeddings(openai_api_key='')\n",
    "# vectors = embedding_model.embed_documents([chunk.page_content for chunk in chunks])     "
   ]
  },
  {
   "cell_type": "markdown",
   "id": "953f00ab",
   "metadata": {},
   "source": [
    "# Store embeddings in Pinecone\n",
    "* use Pinecone to store the embeddings for efficient retrieval\n",
    "* ensure you have a Pinecone index created and configured"
   ]
  },
  {
   "cell_type": "code",
   "execution_count": null,
   "id": "c8d319b7",
   "metadata": {},
   "outputs": [
    {
     "data": {
      "text/plain": [
       "[\n",
       "    {\n",
       "        \"name\": \"tax-rag3\",\n",
       "        \"metric\": \"cosine\",\n",
       "        \"host\": \"tax-rag3-n6gatrn.svc.aped-4627-b74a.pinecone.io\",\n",
       "        \"spec\": {\n",
       "            \"serverless\": {\n",
       "                \"cloud\": \"aws\",\n",
       "                \"region\": \"us-east-1\"\n",
       "            }\n",
       "        },\n",
       "        \"status\": {\n",
       "            \"ready\": true,\n",
       "            \"state\": \"Ready\"\n",
       "        },\n",
       "        \"vector_type\": \"dense\",\n",
       "        \"dimension\": 1536,\n",
       "        \"deletion_protection\": \"disabled\",\n",
       "        \"tags\": null\n",
       "    }\n",
       "]"
      ]
     },
     "execution_count": 14,
     "metadata": {},
     "output_type": "execute_result"
    }
   ],
   "source": [
    "from pinecone import Pinecone\n",
    "pc = Pinecone(api_key=PINECONE_API_KEY)\n",
    "pc.list_indexes()\n",
    "\n",
    "# # Delete multiple indexes\n",
    "# pc.delete_index('tax-rag')\n",
    "# pc.delete_index('tax-rag2')"
   ]
  },
  {
   "cell_type": "code",
   "execution_count": null,
   "id": "069b18a8",
   "metadata": {},
   "outputs": [
    {
     "name": "stderr",
     "output_type": "stream",
     "text": [
      "100%|██████████| 32/32 [00:04<00:00,  6.97it/s]\n"
     ]
    }
   ],
   "source": [
    "from pinecone import Pinecone, ServerlessSpec\n",
    "import time\n",
    "import tqdm\n",
    "\n",
    "pc = Pinecone(api_key=PINECONE_API_KEY)\n",
    "\n",
    "# Step 1: Create index if not exists\n",
    "index_name = \"tax-rag3\"\n",
    "if index_name not in [idx.name for idx in pc.list_indexes()]:\n",
    "    pc.create_index(\n",
    "        name=index_name,\n",
    "        dimension=1536,  # text-embedding-3-small\n",
    "        metric=\"cosine\",\n",
    "        spec=ServerlessSpec(\n",
    "            cloud=\"aws\",\n",
    "            region=\"us-east-1\"  # free tier region\n",
    "        )\n",
    "    )\n",
    "    while not pc.describe_index(index_name).status[\"ready\"]:\n",
    "        time.sleep(1)\n",
    "\n",
    "# Step 2: Get the index host\n",
    "index_info = pc.describe_index(index_name)\n",
    "index_host = index_info.host\n",
    "\n",
    "# Step 3: Connect using host\n",
    "index = pc.Index(host=index_host)\n",
    "\n",
    "# Step 4: Upsert embeddings\n",
    "for i in tqdm.tqdm(range(len(vectors))):\n",
    "    index.upsert([\n",
    "        (f\"id-{i}\", vectors[i], {\"text\": chunks[i].page_content})\n",
    "    ])\n"
   ]
  },
  {
   "cell_type": "code",
   "execution_count": 16,
   "id": "b6e108ac",
   "metadata": {},
   "outputs": [
    {
     "name": "stdout",
     "output_type": "stream",
     "text": [
      "Index now contains 32 vectors\n"
     ]
    }
   ],
   "source": [
    "# Verify upload\n",
    "stats = index.describe_index_stats()\n",
    "print(f\"Index now contains {stats.total_vector_count} vectors\")"
   ]
  },
  {
   "cell_type": "markdown",
   "id": "121971c6",
   "metadata": {},
   "source": [
    "# Finally, RUN app.py "
   ]
  },
  {
   "cell_type": "markdown",
   "id": "0c07f5bd",
   "metadata": {},
   "source": [
    "Run the following in the terminal:\n",
    "\n",
    "streamlit run app.py"
   ]
  },
  {
   "cell_type": "markdown",
   "id": "87c98910",
   "metadata": {},
   "source": []
  }
 ],
 "metadata": {
  "kernelspec": {
   "display_name": "base",
   "language": "python",
   "name": "python3"
  },
  "language_info": {
   "codemirror_mode": {
    "name": "ipython",
    "version": 3
   },
   "file_extension": ".py",
   "mimetype": "text/x-python",
   "name": "python",
   "nbconvert_exporter": "python",
   "pygments_lexer": "ipython3",
   "version": "3.12.7"
  }
 },
 "nbformat": 4,
 "nbformat_minor": 5
}
